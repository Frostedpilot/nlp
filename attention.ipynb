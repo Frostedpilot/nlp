{
 "cells": [
  {
   "cell_type": "code",
   "execution_count": 1,
   "metadata": {},
   "outputs": [],
   "source": [
    "import torch\n",
    "import torch.nn as nn\n",
    "import torch.nn.functional as F\n",
    "import torch.optim as optim"
   ]
  },
  {
   "cell_type": "code",
   "execution_count": null,
   "metadata": {},
   "outputs": [],
   "source": [
    "BATCH_SIZE = 64\n",
    "SEQ_LEN = 32\n",
    "EPOCHS = 4000\n",
    "lr = 3e-4\n",
    "DEVICE = 'cuda' if torch.cuda.is_available() else 'cpu'\n",
    "EMBEDDING_DIM = 128\n",
    "torch.manual_seed(69)"
   ]
  },
  {
   "cell_type": "code",
   "execution_count": 3,
   "metadata": {},
   "outputs": [],
   "source": [
    "with open('data/input.txt', 'r', encoding='utf-8') as f:\n",
    "    text = f.read()"
   ]
  },
  {
   "cell_type": "code",
   "execution_count": 4,
   "metadata": {},
   "outputs": [],
   "source": [
    "chars = sorted(list(set(text)))\n",
    "VOCAB_SIZE = len(chars)\n",
    "# create a mapping from characters to integers\n",
    "CHAR_TO_INDEX = { ch:i for i,ch in enumerate(chars) }\n",
    "INDEX_TO_CHAR = { i:ch for i,ch in enumerate(chars) }\n",
    "encode = lambda s: [CHAR_TO_INDEX[c] for c in s] # encoder: take a string, output a list of integers\n",
    "decode = lambda l: ''.join([INDEX_TO_CHAR[i] for i in l]) # decoder: take a list of integers, output a string"
   ]
  },
  {
   "cell_type": "code",
   "execution_count": 5,
   "metadata": {},
   "outputs": [],
   "source": [
    "data = torch.tensor(encode(text), dtype=torch.long)\n",
    "pct = int(0.9*len(data))\n",
    "train_data = data[:pct]\n",
    "val_data = data[pct:]"
   ]
  },
  {
   "cell_type": "code",
   "execution_count": 6,
   "metadata": {},
   "outputs": [],
   "source": [
    "def get_batch(split):\n",
    "    data = train_data if split == 'train' else val_data\n",
    "    ix = torch.randint(len(data) - SEQ_LEN, (BATCH_SIZE,))\n",
    "    x = torch.stack([data[i:i+SEQ_LEN] for i in ix])\n",
    "    y = torch.stack([data[i+1:i+SEQ_LEN+1] for i in ix])\n",
    "    x, y = x.to(DEVICE), y.to(DEVICE)\n",
    "    return x, y"
   ]
  },
  {
   "cell_type": "code",
   "execution_count": 7,
   "metadata": {},
   "outputs": [],
   "source": [
    "class FeedForward(nn.Module):\n",
    "    def __init__(self):\n",
    "        super().__init__()\n",
    "        self.fc1 = nn.Linear(EMBEDDING_DIM, 4*EMBEDDING_DIM)\n",
    "        self.relu = nn.ReLU()\n",
    "        self.fc2 = nn.Linear(4*EMBEDDING_DIM, EMBEDDING_DIM)\n",
    "\n",
    "    def forward(self, x):\n",
    "        x = self.fc1(x)\n",
    "        x = self.relu(x)\n",
    "        x = self.fc2(x)\n",
    "        return x"
   ]
  },
  {
   "cell_type": "code",
   "execution_count": 8,
   "metadata": {},
   "outputs": [],
   "source": [
    "class Head(nn.Module):\n",
    "    def __init__(self, head_size):\n",
    "        super().__init__()\n",
    "        self.key = nn.Linear(EMBEDDING_DIM, head_size, bias=False)\n",
    "        self.query = nn.Linear(EMBEDDING_DIM, head_size, bias=False)\n",
    "        self.value = nn.Linear(EMBEDDING_DIM, head_size, bias=False)\n",
    "        self.register_buffer('tril', torch.tril(torch.ones(SEQ_LEN, SEQ_LEN)))\n",
    "\n",
    "    def forward(self, x):\n",
    "        B,S,C = x.shape\n",
    "        k = self.key(x)   # (B,S,C)\n",
    "        q = self.query(x) # (B,S,C)\n",
    "        v = self.value(x) # (B,S,C)\n",
    "        wei = q @ k.transpose(-2,-1) * C**-0.5 # (B, S, C) @ (B, C, S) -> (B, S, S)\n",
    "        wei = wei.masked_fill(self.tril[:S, :S] == 0, float('-inf')) # (B, S, S)\n",
    "        wei = F.softmax(wei, dim=-1) # (B, S, S)\n",
    "        out = wei @ v # (B, S, S) @ (B, S, C) -> (B, S, C)\n",
    "        return out"
   ]
  },
  {
   "cell_type": "code",
   "execution_count": 9,
   "metadata": {},
   "outputs": [],
   "source": [
    "class MultipleHead(nn.Module):\n",
    "    def __init__(self, num_heads, head_size):\n",
    "        super().__init__()\n",
    "        self.heads = nn.ModuleList([Head(head_size) for _ in range(num_heads)])\n",
    "        self.fc = nn.Linear(num_heads*head_size, EMBEDDING_DIM)\n",
    "\n",
    "    def forward(self, x):\n",
    "        return self.fc(torch.cat([head(x) for head in self.heads], dim=-1))"
   ]
  },
  {
   "cell_type": "code",
   "execution_count": 10,
   "metadata": {},
   "outputs": [],
   "source": [
    "class Block(nn.Module):\n",
    "    def __init__(self, num_heads):\n",
    "        super().__init__()\n",
    "        head_size = EMBEDDING_DIM // num_heads\n",
    "        self.ln1 = nn.LayerNorm(EMBEDDING_DIM)\n",
    "        self.ln2 = nn.LayerNorm(EMBEDDING_DIM)\n",
    "        self.ff = FeedForward()\n",
    "        self.mh = MultipleHead(num_heads, head_size)\n",
    "\n",
    "    def forward(self, x):\n",
    "        x = x + self.mh(x)\n",
    "        x = self.ln1(x)\n",
    "        x = x + self.ff(x)\n",
    "        x = self.ln2(x)\n",
    "        return x"
   ]
  },
  {
   "cell_type": "code",
   "execution_count": 11,
   "metadata": {},
   "outputs": [],
   "source": [
    "class Attention(nn.Module):\n",
    "\n",
    "    def __init__(self):\n",
    "        super().__init__()\n",
    "        self.token_embedding_table = nn.Embedding(VOCAB_SIZE, EMBEDDING_DIM)\n",
    "        self.position_embedding_table = nn.Embedding(SEQ_LEN, EMBEDDING_DIM)\n",
    "        self.blocks = nn.ModuleList([Block(8) for _ in range(4)])\n",
    "        self.fc = nn.Linear(EMBEDDING_DIM, VOCAB_SIZE)\n",
    "\n",
    "    def forward(self, idx, targets=None):\n",
    "        B, T = idx.shape\n",
    "\n",
    "        tok_emb = self.token_embedding_table(idx) # (B,T,C)\n",
    "        pos_emb = self.position_embedding_table(torch.arange(T, device=DEVICE)) # (T,C)\n",
    "        x = tok_emb + pos_emb # (B,T,C)\n",
    "        for block in self.blocks:\n",
    "            x = block(x)\n",
    "        logits = self.fc(x) # (B,T,vocab_size)\n",
    "\n",
    "        if targets is None:\n",
    "            loss = None\n",
    "        else:\n",
    "            B, T, C = logits.shape\n",
    "            logits = logits.view(B*T, C)\n",
    "            targets = targets.view(B*T)\n",
    "            loss = F.cross_entropy(logits, targets)\n",
    "\n",
    "        return logits, loss\n",
    "\n",
    "    def generate(self, idx, max_new_tokens):\n",
    "        for _ in range(max_new_tokens):\n",
    "            idx_cond = idx[:, -SEQ_LEN:]\n",
    "            logits, loss = self(idx_cond)\n",
    "            logits = logits[:, -1, :] # becomes (B, C)\n",
    "            probs = F.softmax(logits, dim=-1) # (B, C)\n",
    "            idx_next = torch.multinomial(probs, num_samples=1) # (B, 1)\n",
    "            idx = torch.cat((idx, idx_next), dim=1) # (B, T+1)\n",
    "        return idx"
   ]
  },
  {
   "cell_type": "code",
   "execution_count": 12,
   "metadata": {},
   "outputs": [],
   "source": [
    "model = Attention()\n",
    "optimizer = optim.Adam(model.parameters(), lr=lr)\n",
    "model = model.to(DEVICE)"
   ]
  },
  {
   "cell_type": "code",
   "execution_count": null,
   "metadata": {},
   "outputs": [],
   "source": [
    "model.to(DEVICE)\n",
    "for epoch in range(EPOCHS):\n",
    "    print(f\"Epoch {epoch+1}\", end=' ')\n",
    "    model.train()\n",
    "    x, y = get_batch(\"train\")\n",
    "    optimizer.zero_grad()\n",
    "    y_pred, loss = model(x, y)\n",
    "    print(f\"Training Loss: {loss} -\", end=' ')\n",
    "    loss.backward()\n",
    "    optimizer.step()\n",
    "    model.eval()\n",
    "    x, y = get_batch(\"val\")\n",
    "    y_pred, loss = model(x, y)\n",
    "    print(f\"Validation Loss: {loss}\")"
   ]
  },
  {
   "cell_type": "code",
   "execution_count": null,
   "metadata": {},
   "outputs": [],
   "source": [
    "# context = torch.zeros((1, 1), dtype=torch.long, device=DEVICE)\n",
    "context = 'All:'\n",
    "context = torch.tensor(encode(context), dtype=torch.long, device=DEVICE).unsqueeze(0)\n",
    "context = context.to(DEVICE)\n",
    "print(decode(model.generate(context, max_new_tokens=1000)[0].tolist()))"
   ]
  }
 ],
 "metadata": {
  "kernelspec": {
   "display_name": "Python 3",
   "language": "python",
   "name": "python3"
  },
  "language_info": {
   "codemirror_mode": {
    "name": "ipython",
    "version": 3
   },
   "file_extension": ".py",
   "mimetype": "text/x-python",
   "name": "python",
   "nbconvert_exporter": "python",
   "pygments_lexer": "ipython3",
   "version": "3.12.2"
  }
 },
 "nbformat": 4,
 "nbformat_minor": 2
}
